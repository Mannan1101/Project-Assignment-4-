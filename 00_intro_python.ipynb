{
  "nbformat": 4,
  "nbformat_minor": 0,
  "metadata": {
    "colab": {
      "provenance": [],
      "authorship_tag": "ABX9TyMCXtNog2rr6hKaXiFNehej",
      "include_colab_link": true
    },
    "kernelspec": {
      "name": "python3",
      "display_name": "Python 3"
    },
    "language_info": {
      "name": "python"
    }
  },
  "cells": [
    {
      "cell_type": "markdown",
      "metadata": {
        "id": "view-in-github",
        "colab_type": "text"
      },
      "source": [
        "<a href=\"https://colab.research.google.com/github/Mannan1101/Project-Assignment-4-/blob/main/00_intro_python.ipynb\" target=\"_parent\"><img src=\"https://colab.research.google.com/assets/colab-badge.svg\" alt=\"Open In Colab\"/></a>"
      ]
    },
    {
      "cell_type": "code",
      "execution_count": null,
      "metadata": {
        "id": "ebihtcwk67rF"
      },
      "outputs": [],
      "source": []
    },
    {
      "cell_type": "markdown",
      "source": [
        "**00_intro_python"
      ],
      "metadata": {
        "id": "Q22olVf_7V9y"
      }
    },
    {
      "cell_type": "code",
      "source": [
        "# (01_add_two_numbers.md)\n",
        "\n",
        "def main():\n",
        "    first_number = int(input(\"Enter the first number: \"))\n",
        "    second_number = int(input(\"Enter the second number: \"))\n",
        "\n",
        "    total_sum = first_number + second_number\n",
        "\n",
        "    print(\"The sum of\", first_number, \"and\", second_number, \"is:\", total_sum)\n",
        "\n",
        "if __name__ == \"__main__\":\n",
        "    main()\n"
      ],
      "metadata": {
        "colab": {
          "base_uri": "https://localhost:8080/"
        },
        "id": "cB5met0R-R8g",
        "outputId": "fa0580ef-dbc3-4f8c-d196-90497a45b421"
      },
      "execution_count": null,
      "outputs": [
        {
          "output_type": "stream",
          "name": "stdout",
          "text": [
            "Enter the first number: 24\n",
            "Enter the second number: 19\n",
            "The sum of 24 and 19 is: 43\n"
          ]
        }
      ]
    },
    {
      "cell_type": "code",
      "source": [],
      "metadata": {
        "id": "cEYoF6j9_F-v"
      },
      "execution_count": null,
      "outputs": []
    },
    {
      "cell_type": "code",
      "source": [
        "# 02_agreement_bot.md\n",
        "\n",
        "def main():\n",
        "    favorite_animal = input(\"What's your favorite animal? \")\n",
        "    print(\"My favorite animal is also\", favorite_animal + \"!\")\n",
        "\n",
        "if __name__ == \"__main__\":\n",
        "    main()\n"
      ],
      "metadata": {
        "colab": {
          "base_uri": "https://localhost:8080/"
        },
        "id": "YDznt9BW_KJq",
        "outputId": "31a15e9d-0d3c-47d0-df6a-07f679eec070"
      },
      "execution_count": null,
      "outputs": [
        {
          "output_type": "stream",
          "name": "stdout",
          "text": [
            "What's your favorite animal? eagle\n",
            "My favorite animal is also eagle!\n"
          ]
        }
      ]
    },
    {
      "cell_type": "code",
      "source": [
        "# 03_fahrenheit_to_celsius.md\n",
        "\n",
        "def main():\n",
        "    fahrenheit = float(input(\"Enter temperature in Fahrenheit: \"))\n",
        "\n",
        "    celsius = (fahrenheit - 32) * 5.0 / 9.0\n",
        "\n",
        "    print(\"Temperature:\", fahrenheit, \"F =\", celsius, \"C\")\n",
        "\n",
        "if __name__ == \"__main__\":\n",
        "    main()\n",
        "\n"
      ],
      "metadata": {
        "colab": {
          "base_uri": "https://localhost:8080/"
        },
        "id": "YC09b_vTBPnu",
        "outputId": "74af5483-57e5-4e29-c54d-89ffc32dbf93"
      },
      "execution_count": null,
      "outputs": [
        {
          "output_type": "stream",
          "name": "stdout",
          "text": [
            "Enter temperature in Fahrenheit: 178\n",
            "Temperature: 178.0 F = 81.11111111111111 C\n"
          ]
        }
      ]
    },
    {
      "cell_type": "code",
      "source": [
        "# 04_how_old_are_they.md\n",
        "\n",
        "def main():\n",
        "    # Store each person's age in a variable\n",
        "    Anton = 21\n",
        "    Beth = Anton + 6\n",
        "    Chen = Beth + 20\n",
        "    Drew = Chen + Anton\n",
        "    Ethan = Chen\n",
        "\n",
        "    # Print names and ages with correct formatting\n",
        "    print(\"Anton is\", Anton, \"years old.\")\n",
        "    print(\"Beth is\", Beth, \"years old.\")\n",
        "    print(\"Chen is\", Chen, \"years old.\")\n",
        "    print(\"Drew is\", Drew, \"years old.\")\n",
        "    print(\"Ethan is\", Ethan, \"years old.\")\n",
        "\n",
        "# Run the program\n",
        "if __name__ == \"__main__\":\n",
        "    main()\n"
      ],
      "metadata": {
        "colab": {
          "base_uri": "https://localhost:8080/"
        },
        "id": "48VgkZ9uBloh",
        "outputId": "f9f1756c-f369-4684-a5ba-72a2d38681e5"
      },
      "execution_count": null,
      "outputs": [
        {
          "output_type": "stream",
          "name": "stdout",
          "text": [
            "Anton is 21 years old.\n",
            "Beth is 27 years old.\n",
            "Chen is 47 years old.\n",
            "Drew is 68 years old.\n",
            "Ethan is 47 years old.\n"
          ]
        }
      ]
    },
    {
      "cell_type": "code",
      "source": [
        "# 05_triangle_perimeter.md\n",
        "def main():\n",
        "\n",
        "    side1 = float(input(\"What is the length of side 1? \"))\n",
        "    side2 = float(input(\"What is the length of side 2? \"))\n",
        "    side3 = float(input(\"What is the length of side 3? \"))\n",
        "\n",
        "    perimeter = side1 + side2 + side3\n",
        "\n",
        "    print(\"The perimeter of the triangle is\", perimeter)\n",
        "\n",
        "if __name__ == \"__main__\":\n",
        "    main()\n",
        "\n"
      ],
      "metadata": {
        "colab": {
          "base_uri": "https://localhost:8080/"
        },
        "id": "Wx0cW4KLClKB",
        "outputId": "51db3915-a57b-4b3f-8919-8c13eca5267d"
      },
      "execution_count": null,
      "outputs": [
        {
          "output_type": "stream",
          "name": "stdout",
          "text": [
            "What is the length of side 1? 44\n",
            "What is the length of side 2? 7\n",
            "What is the length of side 3? 34\n",
            "The perimeter of the triangle is 85.0\n"
          ]
        }
      ]
    },
    {
      "cell_type": "code",
      "source": [
        "# 06_square_number.md\n",
        "\n",
        "def main():\n",
        "    number = float(input(\"Type a number to see its square: \"))\n",
        "\n",
        "    square = number * number\n",
        "\n",
        "    print(f\"{number} squared is {square}\")\n",
        "\n",
        "if __name__ == \"__main__\":\n",
        "    main()\n",
        "\n"
      ],
      "metadata": {
        "colab": {
          "base_uri": "https://localhost:8080/"
        },
        "id": "yQXAupDGDNhk",
        "outputId": "36b59d62-ade4-47ee-cce5-ce8ee083afce"
      },
      "execution_count": null,
      "outputs": [
        {
          "output_type": "stream",
          "name": "stdout",
          "text": [
            "Type a number to see its square: 7\n",
            "7.0 squared is 49.0\n"
          ]
        }
      ]
    }
  ]
}